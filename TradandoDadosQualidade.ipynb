{
 "cells": [
  {
   "cell_type": "markdown",
   "id": "ecfe154b",
   "metadata": {},
   "source": [
    "# NERD DOS DADOS - Tratando dados com QUALIDADE"
   ]
  },
  {
   "cell_type": "code",
   "execution_count": 1,
   "id": "270fcc26",
   "metadata": {},
   "outputs": [],
   "source": [
    "import pandas as pd\n",
    "import matplotlib.pyplot as plt\n",
    "import seaborn as sns"
   ]
  },
  {
   "cell_type": "code",
   "execution_count": 2,
   "id": "ecabfac1",
   "metadata": {},
   "outputs": [
    {
     "data": {
      "text/html": [
       "<div>\n",
       "<style scoped>\n",
       "    .dataframe tbody tr th:only-of-type {\n",
       "        vertical-align: middle;\n",
       "    }\n",
       "\n",
       "    .dataframe tbody tr th {\n",
       "        vertical-align: top;\n",
       "    }\n",
       "\n",
       "    .dataframe thead th {\n",
       "        text-align: right;\n",
       "    }\n",
       "</style>\n",
       "<table border=\"1\" class=\"dataframe\">\n",
       "  <thead>\n",
       "    <tr style=\"text-align: right;\">\n",
       "      <th></th>\n",
       "      <th>ID_CLIENTE</th>\n",
       "      <th>CONTRATO</th>\n",
       "      <th>NOME</th>\n",
       "      <th>TELEFONE</th>\n",
       "      <th>ESTADO_CIVIL</th>\n",
       "      <th>SEXO</th>\n",
       "      <th>RENDA_MENSAL</th>\n",
       "      <th>IDADE</th>\n",
       "      <th>DATA_SOLICITACAO</th>\n",
       "      <th>VL_PATRIMONIO</th>\n",
       "    </tr>\n",
       "  </thead>\n",
       "  <tbody>\n",
       "    <tr>\n",
       "      <th>0</th>\n",
       "      <td>1</td>\n",
       "      <td>10001</td>\n",
       "      <td>NERD DOS DADOS</td>\n",
       "      <td>(11) 99999-8888</td>\n",
       "      <td>CASADO</td>\n",
       "      <td>M</td>\n",
       "      <td>2000.0</td>\n",
       "      <td>37</td>\n",
       "      <td>2023-11-06</td>\n",
       "      <td>300000.0</td>\n",
       "    </tr>\n",
       "    <tr>\n",
       "      <th>1</th>\n",
       "      <td>2</td>\n",
       "      <td>10002</td>\n",
       "      <td>NERD DOS DADOS</td>\n",
       "      <td>(11) 99999-8888</td>\n",
       "      <td>SOLTEIRO</td>\n",
       "      <td>F</td>\n",
       "      <td>2000.0</td>\n",
       "      <td>38</td>\n",
       "      <td>2023-11-06</td>\n",
       "      <td>300000.0</td>\n",
       "    </tr>\n",
       "    <tr>\n",
       "      <th>2</th>\n",
       "      <td>3</td>\n",
       "      <td>10003</td>\n",
       "      <td>NERD DOS DADOS</td>\n",
       "      <td>(11) 99999-8888</td>\n",
       "      <td>VIUVO</td>\n",
       "      <td>M</td>\n",
       "      <td>3000.0</td>\n",
       "      <td>39</td>\n",
       "      <td>2023-11-06</td>\n",
       "      <td>400000.0</td>\n",
       "    </tr>\n",
       "    <tr>\n",
       "      <th>3</th>\n",
       "      <td>4</td>\n",
       "      <td>10004</td>\n",
       "      <td>NERD DOS DADOS</td>\n",
       "      <td>(11) 99999-8888</td>\n",
       "      <td>DESQUITADO</td>\n",
       "      <td>F</td>\n",
       "      <td>3000.0</td>\n",
       "      <td>40</td>\n",
       "      <td>2023-11-06</td>\n",
       "      <td>400000.0</td>\n",
       "    </tr>\n",
       "    <tr>\n",
       "      <th>4</th>\n",
       "      <td>5</td>\n",
       "      <td>10005</td>\n",
       "      <td>NERD DOS DADOS</td>\n",
       "      <td>(11) 99999-8888</td>\n",
       "      <td>JUNTADO</td>\n",
       "      <td>M</td>\n",
       "      <td>4000.0</td>\n",
       "      <td>41</td>\n",
       "      <td>2023-11-07</td>\n",
       "      <td>500000.0</td>\n",
       "    </tr>\n",
       "  </tbody>\n",
       "</table>\n",
       "</div>"
      ],
      "text/plain": [
       "   ID_CLIENTE  CONTRATO            NOME         TELEFONE ESTADO_CIVIL SEXO  \\\n",
       "0           1     10001  NERD DOS DADOS  (11) 99999-8888       CASADO    M   \n",
       "1           2     10002  NERD DOS DADOS  (11) 99999-8888     SOLTEIRO    F   \n",
       "2           3     10003  NERD DOS DADOS  (11) 99999-8888        VIUVO    M   \n",
       "3           4     10004  NERD DOS DADOS  (11) 99999-8888   DESQUITADO    F   \n",
       "4           5     10005  NERD DOS DADOS  (11) 99999-8888      JUNTADO    M   \n",
       "\n",
       "   RENDA_MENSAL  IDADE DATA_SOLICITACAO  VL_PATRIMONIO  \n",
       "0        2000.0     37       2023-11-06       300000.0  \n",
       "1        2000.0     38       2023-11-06       300000.0  \n",
       "2        3000.0     39       2023-11-06       400000.0  \n",
       "3        3000.0     40       2023-11-06       400000.0  \n",
       "4        4000.0     41       2023-11-07       500000.0  "
      ]
     },
     "execution_count": 2,
     "metadata": {},
     "output_type": "execute_result"
    }
   ],
   "source": [
    "df_original = pd.read_excel(\"dados.xlsx\")\n",
    "df_original.head()"
   ]
  },
  {
   "cell_type": "code",
   "execution_count": 3,
   "id": "33bef88a",
   "metadata": {},
   "outputs": [
    {
     "data": {
      "text/plain": [
       "(1056, 10)"
      ]
     },
     "execution_count": 3,
     "metadata": {},
     "output_type": "execute_result"
    }
   ],
   "source": [
    "df_original.shape"
   ]
  },
  {
   "cell_type": "code",
   "execution_count": 4,
   "id": "6837b654",
   "metadata": {},
   "outputs": [
    {
     "name": "stdout",
     "output_type": "stream",
     "text": [
      "<class 'pandas.core.frame.DataFrame'>\n",
      "RangeIndex: 1056 entries, 0 to 1055\n",
      "Data columns (total 10 columns):\n",
      " #   Column            Non-Null Count  Dtype         \n",
      "---  ------            --------------  -----         \n",
      " 0   ID_CLIENTE        1056 non-null   int64         \n",
      " 1   CONTRATO          1056 non-null   int64         \n",
      " 2   NOME              1056 non-null   object        \n",
      " 3   TELEFONE          1056 non-null   object        \n",
      " 4   ESTADO_CIVIL      1056 non-null   object        \n",
      " 5   SEXO              1056 non-null   object        \n",
      " 6   RENDA_MENSAL      1033 non-null   float64       \n",
      " 7   IDADE             1056 non-null   int64         \n",
      " 8   DATA_SOLICITACAO  1056 non-null   datetime64[ns]\n",
      " 9   VL_PATRIMONIO     1033 non-null   float64       \n",
      "dtypes: datetime64[ns](1), float64(2), int64(3), object(4)\n",
      "memory usage: 82.6+ KB\n"
     ]
    }
   ],
   "source": [
    "df_original.info()"
   ]
  },
  {
   "cell_type": "code",
   "execution_count": 5,
   "id": "8a41f1fc",
   "metadata": {},
   "outputs": [
    {
     "data": {
      "text/plain": [
       "ID_CLIENTE           0\n",
       "CONTRATO             0\n",
       "NOME                 0\n",
       "TELEFONE             0\n",
       "ESTADO_CIVIL         0\n",
       "SEXO                 0\n",
       "RENDA_MENSAL        23\n",
       "IDADE                0\n",
       "DATA_SOLICITACAO     0\n",
       "VL_PATRIMONIO       23\n",
       "dtype: int64"
      ]
     },
     "execution_count": 5,
     "metadata": {},
     "output_type": "execute_result"
    }
   ],
   "source": [
    "df_original.isnull().sum()"
   ]
  },
  {
   "cell_type": "code",
   "execution_count": 6,
   "id": "51076455",
   "metadata": {},
   "outputs": [
    {
     "data": {
      "text/html": [
       "<div>\n",
       "<style scoped>\n",
       "    .dataframe tbody tr th:only-of-type {\n",
       "        vertical-align: middle;\n",
       "    }\n",
       "\n",
       "    .dataframe tbody tr th {\n",
       "        vertical-align: top;\n",
       "    }\n",
       "\n",
       "    .dataframe thead th {\n",
       "        text-align: right;\n",
       "    }\n",
       "</style>\n",
       "<table border=\"1\" class=\"dataframe\">\n",
       "  <thead>\n",
       "    <tr style=\"text-align: right;\">\n",
       "      <th></th>\n",
       "      <th>ID_CLIENTE</th>\n",
       "      <th>CONTRATO</th>\n",
       "      <th>RENDA_MENSAL</th>\n",
       "      <th>IDADE</th>\n",
       "      <th>VL_PATRIMONIO</th>\n",
       "    </tr>\n",
       "  </thead>\n",
       "  <tbody>\n",
       "    <tr>\n",
       "      <th>count</th>\n",
       "      <td>1056.000000</td>\n",
       "      <td>1056.000000</td>\n",
       "      <td>1033.000000</td>\n",
       "      <td>1056.000000</td>\n",
       "      <td>1033.000000</td>\n",
       "    </tr>\n",
       "    <tr>\n",
       "      <th>mean</th>\n",
       "      <td>528.500000</td>\n",
       "      <td>10528.500000</td>\n",
       "      <td>3377.541142</td>\n",
       "      <td>33.929924</td>\n",
       "      <td>400580.832527</td>\n",
       "    </tr>\n",
       "    <tr>\n",
       "      <th>std</th>\n",
       "      <td>304.985246</td>\n",
       "      <td>304.985246</td>\n",
       "      <td>784.268134</td>\n",
       "      <td>8.721755</td>\n",
       "      <td>81884.605777</td>\n",
       "    </tr>\n",
       "    <tr>\n",
       "      <th>min</th>\n",
       "      <td>1.000000</td>\n",
       "      <td>10001.000000</td>\n",
       "      <td>2000.000000</td>\n",
       "      <td>25.000000</td>\n",
       "      <td>300000.000000</td>\n",
       "    </tr>\n",
       "    <tr>\n",
       "      <th>25%</th>\n",
       "      <td>264.750000</td>\n",
       "      <td>10264.750000</td>\n",
       "      <td>3000.000000</td>\n",
       "      <td>30.000000</td>\n",
       "      <td>300000.000000</td>\n",
       "    </tr>\n",
       "    <tr>\n",
       "      <th>50%</th>\n",
       "      <td>528.500000</td>\n",
       "      <td>10528.500000</td>\n",
       "      <td>4000.000000</td>\n",
       "      <td>33.000000</td>\n",
       "      <td>400000.000000</td>\n",
       "    </tr>\n",
       "    <tr>\n",
       "      <th>75%</th>\n",
       "      <td>792.250000</td>\n",
       "      <td>10792.250000</td>\n",
       "      <td>4000.000000</td>\n",
       "      <td>38.000000</td>\n",
       "      <td>500000.000000</td>\n",
       "    </tr>\n",
       "    <tr>\n",
       "      <th>max</th>\n",
       "      <td>1056.000000</td>\n",
       "      <td>11056.000000</td>\n",
       "      <td>4000.000000</td>\n",
       "      <td>135.000000</td>\n",
       "      <td>500000.000000</td>\n",
       "    </tr>\n",
       "  </tbody>\n",
       "</table>\n",
       "</div>"
      ],
      "text/plain": [
       "        ID_CLIENTE      CONTRATO  RENDA_MENSAL        IDADE  VL_PATRIMONIO\n",
       "count  1056.000000   1056.000000   1033.000000  1056.000000    1033.000000\n",
       "mean    528.500000  10528.500000   3377.541142    33.929924  400580.832527\n",
       "std     304.985246    304.985246    784.268134     8.721755   81884.605777\n",
       "min       1.000000  10001.000000   2000.000000    25.000000  300000.000000\n",
       "25%     264.750000  10264.750000   3000.000000    30.000000  300000.000000\n",
       "50%     528.500000  10528.500000   4000.000000    33.000000  400000.000000\n",
       "75%     792.250000  10792.250000   4000.000000    38.000000  500000.000000\n",
       "max    1056.000000  11056.000000   4000.000000   135.000000  500000.000000"
      ]
     },
     "execution_count": 6,
     "metadata": {},
     "output_type": "execute_result"
    }
   ],
   "source": [
    "df_original.describe()"
   ]
  },
  {
   "cell_type": "code",
   "execution_count": 7,
   "id": "57ef71ac",
   "metadata": {},
   "outputs": [
    {
     "name": "stdout",
     "output_type": "stream",
     "text": [
      "ID_CLIENTE : 1056\n",
      "CONTRATO : 1056\n",
      "NOME : 1\n",
      "TELEFONE : 1\n",
      "ESTADO_CIVIL : 11\n",
      "SEXO : 2\n",
      "RENDA_MENSAL : 4\n",
      "IDADE : 20\n",
      "DATA_SOLICITACAO : 6\n",
      "VL_PATRIMONIO : 4\n"
     ]
    }
   ],
   "source": [
    "for i in df_original.columns[0:10].tolist():\n",
    "    print(i, ':', len(df_original[i].astype(str).value_counts()))"
   ]
  },
  {
   "cell_type": "code",
   "execution_count": 8,
   "id": "f94fc430",
   "metadata": {},
   "outputs": [
    {
     "data": {
      "text/plain": [
       "ESTADO_CIVIL\n",
       "*                 50\n",
       "-                 50\n",
       "AMIGADO           50\n",
       "CASADO           450\n",
       "DESQUITADO        50\n",
       "DIVORCIADO        50\n",
       "JUNTADO           50\n",
       "NAO INFORMADO     50\n",
       "SOLTEIRO         156\n",
       "VIUVO             50\n",
       "XXX               50\n",
       "dtype: int64"
      ]
     },
     "execution_count": 8,
     "metadata": {},
     "output_type": "execute_result"
    }
   ],
   "source": [
    "df_original.groupby(['ESTADO_CIVIL']).size()"
   ]
  },
  {
   "cell_type": "code",
   "execution_count": 9,
   "id": "af610164",
   "metadata": {},
   "outputs": [
    {
     "data": {
      "text/plain": [
       "SEXO\n",
       "F    700\n",
       "M    356\n",
       "dtype: int64"
      ]
     },
     "execution_count": 9,
     "metadata": {},
     "output_type": "execute_result"
    }
   ],
   "source": [
    "df_original.groupby(['SEXO']).size()"
   ]
  },
  {
   "cell_type": "code",
   "execution_count": 10,
   "id": "a9c8012d",
   "metadata": {},
   "outputs": [
    {
     "data": {
      "text/html": [
       "<div>\n",
       "<style scoped>\n",
       "    .dataframe tbody tr th:only-of-type {\n",
       "        vertical-align: middle;\n",
       "    }\n",
       "\n",
       "    .dataframe tbody tr th {\n",
       "        vertical-align: top;\n",
       "    }\n",
       "\n",
       "    .dataframe thead th {\n",
       "        text-align: right;\n",
       "    }\n",
       "</style>\n",
       "<table border=\"1\" class=\"dataframe\">\n",
       "  <thead>\n",
       "    <tr style=\"text-align: right;\">\n",
       "      <th></th>\n",
       "      <th>ID_CLIENTE</th>\n",
       "      <th>CONTRATO</th>\n",
       "      <th>NOME</th>\n",
       "      <th>TELEFONE</th>\n",
       "      <th>ESTADO_CIVIL</th>\n",
       "      <th>SEXO</th>\n",
       "      <th>RENDA_MENSAL</th>\n",
       "      <th>IDADE</th>\n",
       "      <th>DATA_SOLICITACAO</th>\n",
       "      <th>VL_PATRIMONIO</th>\n",
       "    </tr>\n",
       "  </thead>\n",
       "  <tbody>\n",
       "    <tr>\n",
       "      <th>1050</th>\n",
       "      <td>1051</td>\n",
       "      <td>11051</td>\n",
       "      <td>NERD DOS DADOS</td>\n",
       "      <td>(11) 99999-8888</td>\n",
       "      <td>SOLTEIRO</td>\n",
       "      <td>M</td>\n",
       "      <td>3000.0</td>\n",
       "      <td>135</td>\n",
       "      <td>2023-11-11</td>\n",
       "      <td>500000.0</td>\n",
       "    </tr>\n",
       "    <tr>\n",
       "      <th>1051</th>\n",
       "      <td>1052</td>\n",
       "      <td>11052</td>\n",
       "      <td>NERD DOS DADOS</td>\n",
       "      <td>(11) 99999-8888</td>\n",
       "      <td>SOLTEIRO</td>\n",
       "      <td>M</td>\n",
       "      <td>3000.0</td>\n",
       "      <td>128</td>\n",
       "      <td>2023-11-11</td>\n",
       "      <td>500000.0</td>\n",
       "    </tr>\n",
       "    <tr>\n",
       "      <th>1052</th>\n",
       "      <td>1053</td>\n",
       "      <td>11053</td>\n",
       "      <td>NERD DOS DADOS</td>\n",
       "      <td>(11) 99999-8888</td>\n",
       "      <td>SOLTEIRO</td>\n",
       "      <td>M</td>\n",
       "      <td>3000.0</td>\n",
       "      <td>123</td>\n",
       "      <td>2023-11-11</td>\n",
       "      <td>500000.0</td>\n",
       "    </tr>\n",
       "    <tr>\n",
       "      <th>1053</th>\n",
       "      <td>1054</td>\n",
       "      <td>11054</td>\n",
       "      <td>NERD DOS DADOS</td>\n",
       "      <td>(11) 99999-8888</td>\n",
       "      <td>SOLTEIRO</td>\n",
       "      <td>M</td>\n",
       "      <td>3000.0</td>\n",
       "      <td>127</td>\n",
       "      <td>2023-11-11</td>\n",
       "      <td>500000.0</td>\n",
       "    </tr>\n",
       "    <tr>\n",
       "      <th>1054</th>\n",
       "      <td>1055</td>\n",
       "      <td>11055</td>\n",
       "      <td>NERD DOS DADOS</td>\n",
       "      <td>(11) 99999-8888</td>\n",
       "      <td>SOLTEIRO</td>\n",
       "      <td>M</td>\n",
       "      <td>3000.0</td>\n",
       "      <td>133</td>\n",
       "      <td>2023-11-11</td>\n",
       "      <td>500000.0</td>\n",
       "    </tr>\n",
       "    <tr>\n",
       "      <th>1055</th>\n",
       "      <td>1056</td>\n",
       "      <td>11056</td>\n",
       "      <td>NERD DOS DADOS</td>\n",
       "      <td>(11) 99999-8888</td>\n",
       "      <td>SOLTEIRO</td>\n",
       "      <td>M</td>\n",
       "      <td>3000.0</td>\n",
       "      <td>134</td>\n",
       "      <td>2023-11-11</td>\n",
       "      <td>500000.0</td>\n",
       "    </tr>\n",
       "  </tbody>\n",
       "</table>\n",
       "</div>"
      ],
      "text/plain": [
       "      ID_CLIENTE  CONTRATO            NOME         TELEFONE ESTADO_CIVIL SEXO  \\\n",
       "1050        1051     11051  NERD DOS DADOS  (11) 99999-8888     SOLTEIRO    M   \n",
       "1051        1052     11052  NERD DOS DADOS  (11) 99999-8888     SOLTEIRO    M   \n",
       "1052        1053     11053  NERD DOS DADOS  (11) 99999-8888     SOLTEIRO    M   \n",
       "1053        1054     11054  NERD DOS DADOS  (11) 99999-8888     SOLTEIRO    M   \n",
       "1054        1055     11055  NERD DOS DADOS  (11) 99999-8888     SOLTEIRO    M   \n",
       "1055        1056     11056  NERD DOS DADOS  (11) 99999-8888     SOLTEIRO    M   \n",
       "\n",
       "      RENDA_MENSAL  IDADE DATA_SOLICITACAO  VL_PATRIMONIO  \n",
       "1050        3000.0    135       2023-11-11       500000.0  \n",
       "1051        3000.0    128       2023-11-11       500000.0  \n",
       "1052        3000.0    123       2023-11-11       500000.0  \n",
       "1053        3000.0    127       2023-11-11       500000.0  \n",
       "1054        3000.0    133       2023-11-11       500000.0  \n",
       "1055        3000.0    134       2023-11-11       500000.0  "
      ]
     },
     "execution_count": 10,
     "metadata": {},
     "output_type": "execute_result"
    }
   ],
   "source": [
    "df_original[df_original['IDADE'] > 70]"
   ]
  },
  {
   "cell_type": "code",
   "execution_count": 11,
   "id": "d8c0d1bb",
   "metadata": {},
   "outputs": [
    {
     "data": {
      "text/plain": [
       "ID_CLIENTE          6\n",
       "CONTRATO            6\n",
       "NOME                6\n",
       "TELEFONE            6\n",
       "ESTADO_CIVIL        6\n",
       "SEXO                6\n",
       "RENDA_MENSAL        6\n",
       "IDADE               6\n",
       "DATA_SOLICITACAO    6\n",
       "VL_PATRIMONIO       6\n",
       "dtype: int64"
      ]
     },
     "execution_count": 11,
     "metadata": {},
     "output_type": "execute_result"
    }
   ],
   "source": [
    "df_original[df_original['IDADE'] > 70].count()"
   ]
  },
  {
   "cell_type": "code",
   "execution_count": 12,
   "id": "1fda019a",
   "metadata": {},
   "outputs": [
    {
     "data": {
      "image/png": "[encoded data removed]",
      "text/plain": [
       "<Figure size 600x400 with 1 Axes>"
      ]
     },
     "metadata": {},
     "output_type": "display_data"
    }
   ],
   "source": [
    "plt.rcParams['figure.figsize'] = [6.00, 4.00]\n",
    "plt.rcParams['figure.autolayout'] = True\n",
    "\n",
    "sns.boxplot(data = df_original, y = df_original['IDADE'])\n",
    "plt.show()"
   ]
  },
  {
   "cell_type": "code",
   "execution_count": 13,
   "id": "65ab1565",
   "metadata": {},
   "outputs": [
    {
     "data": {
      "image/png": "[encoded data removed]",
      "text/plain": [
       "<Figure size 600x400 with 1 Axes>"
      ]
     },
     "metadata": {},
     "output_type": "display_data"
    }
   ],
   "source": [
    "plt.rcParams['figure.figsize'] = [6.00, 4.00]\n",
    "plt.rcParams['figure.autolayout'] = True\n",
    "\n",
    "sns.boxplot(data = df_original, y = df_original['VL_PATRIMONIO'])\n",
    "plt.show()"
   ]
  },
  {
   "cell_type": "code",
   "execution_count": 14,
   "id": "23c883ac",
   "metadata": {},
   "outputs": [
    {
     "data": {
      "image/png": "[encoded data removed]",
      "text/plain": [
       "<Figure size 600x400 with 1 Axes>"
      ]
     },
     "metadata": {},
     "output_type": "display_data"
    }
   ],
   "source": [
    "plt.rcParams['figure.figsize'] = [6.00, 4.00]\n",
    "plt.rcParams['figure.autolayout'] = True\n",
    "\n",
    "sns.boxplot(data = df_original, y = df_original['RENDA_MENSAL'])\n",
    "plt.show()"
   ]
  },
  {
   "cell_type": "markdown",
   "id": "d5258f88",
   "metadata": {},
   "source": [
    "### 1º Retirar vaiáveis que não serão utilizadas"
   ]
  },
  {
   "cell_type": "code",
   "execution_count": 15,
   "id": "a805a816",
   "metadata": {},
   "outputs": [
    {
     "data": {
      "text/html": [
       "<div>\n",
       "<style scoped>\n",
       "    .dataframe tbody tr th:only-of-type {\n",
       "        vertical-align: middle;\n",
       "    }\n",
       "\n",
       "    .dataframe tbody tr th {\n",
       "        vertical-align: top;\n",
       "    }\n",
       "\n",
       "    .dataframe thead th {\n",
       "        text-align: right;\n",
       "    }\n",
       "</style>\n",
       "<table border=\"1\" class=\"dataframe\">\n",
       "  <thead>\n",
       "    <tr style=\"text-align: right;\">\n",
       "      <th></th>\n",
       "      <th>ESTADO_CIVIL</th>\n",
       "      <th>SEXO</th>\n",
       "      <th>RENDA_MENSAL</th>\n",
       "      <th>IDADE</th>\n",
       "      <th>DATA_SOLICITACAO</th>\n",
       "      <th>VL_PATRIMONIO</th>\n",
       "    </tr>\n",
       "  </thead>\n",
       "  <tbody>\n",
       "    <tr>\n",
       "      <th>0</th>\n",
       "      <td>CASADO</td>\n",
       "      <td>M</td>\n",
       "      <td>2000.0</td>\n",
       "      <td>37</td>\n",
       "      <td>2023-11-06</td>\n",
       "      <td>300000.0</td>\n",
       "    </tr>\n",
       "    <tr>\n",
       "      <th>1</th>\n",
       "      <td>SOLTEIRO</td>\n",
       "      <td>F</td>\n",
       "      <td>2000.0</td>\n",
       "      <td>38</td>\n",
       "      <td>2023-11-06</td>\n",
       "      <td>300000.0</td>\n",
       "    </tr>\n",
       "    <tr>\n",
       "      <th>2</th>\n",
       "      <td>VIUVO</td>\n",
       "      <td>M</td>\n",
       "      <td>3000.0</td>\n",
       "      <td>39</td>\n",
       "      <td>2023-11-06</td>\n",
       "      <td>400000.0</td>\n",
       "    </tr>\n",
       "    <tr>\n",
       "      <th>3</th>\n",
       "      <td>DESQUITADO</td>\n",
       "      <td>F</td>\n",
       "      <td>3000.0</td>\n",
       "      <td>40</td>\n",
       "      <td>2023-11-06</td>\n",
       "      <td>400000.0</td>\n",
       "    </tr>\n",
       "    <tr>\n",
       "      <th>4</th>\n",
       "      <td>JUNTADO</td>\n",
       "      <td>M</td>\n",
       "      <td>4000.0</td>\n",
       "      <td>41</td>\n",
       "      <td>2023-11-07</td>\n",
       "      <td>500000.0</td>\n",
       "    </tr>\n",
       "  </tbody>\n",
       "</table>\n",
       "</div>"
      ],
      "text/plain": [
       "  ESTADO_CIVIL SEXO  RENDA_MENSAL  IDADE DATA_SOLICITACAO  VL_PATRIMONIO\n",
       "0       CASADO    M        2000.0     37       2023-11-06       300000.0\n",
       "1     SOLTEIRO    F        2000.0     38       2023-11-06       300000.0\n",
       "2        VIUVO    M        3000.0     39       2023-11-06       400000.0\n",
       "3   DESQUITADO    F        3000.0     40       2023-11-06       400000.0\n",
       "4      JUNTADO    M        4000.0     41       2023-11-07       500000.0"
      ]
     },
     "execution_count": 15,
     "metadata": {},
     "output_type": "execute_result"
    }
   ],
   "source": [
    "# ID_CLIENTE, CONTRATO, NOME e TELEFONE\n",
    "colunas = ['ESTADO_CIVIL', 'SEXO', 'RENDA_MENSAL', 'IDADE','DATA_SOLICITACAO','VL_PATRIMONIO']\n",
    "df_dados = pd.DataFrame(df_original, columns = colunas)\n",
    "df_dados.head()"
   ]
  },
  {
   "cell_type": "code",
   "execution_count": null,
   "id": "67a9a4dc",
   "metadata": {},
   "outputs": [],
   "source": []
  },
  {
   "cell_type": "markdown",
   "id": "4ac066c6",
   "metadata": {},
   "source": [
    "### 2º Tratar os valores missing(valores nulos)"
   ]
  },
  {
   "cell_type": "code",
   "execution_count": 16,
   "id": "51932502",
   "metadata": {},
   "outputs": [
    {
     "data": {
      "text/plain": [
       "ESTADO_CIVIL         0\n",
       "SEXO                 0\n",
       "RENDA_MENSAL        23\n",
       "IDADE                0\n",
       "DATA_SOLICITACAO     0\n",
       "VL_PATRIMONIO       23\n",
       "dtype: int64"
      ]
     },
     "execution_count": 16,
     "metadata": {},
     "output_type": "execute_result"
    }
   ],
   "source": [
    "df_dados.isnull().sum()"
   ]
  },
  {
   "cell_type": "code",
   "execution_count": 17,
   "id": "46195c5b",
   "metadata": {},
   "outputs": [],
   "source": [
    "df_dados['RENDA_MENSAL'] = df_dados['RENDA_MENSAL'].fillna(df_dados['RENDA_MENSAL'].median())\n",
    "df_dados['VL_PATRIMONIO'] = df_dados['VL_PATRIMONIO'].fillna(df_dados['VL_PATRIMONIO'].median())"
   ]
  },
  {
   "cell_type": "code",
   "execution_count": 18,
   "id": "1f704101",
   "metadata": {},
   "outputs": [
    {
     "data": {
      "text/plain": [
       "ESTADO_CIVIL        0\n",
       "SEXO                0\n",
       "RENDA_MENSAL        0\n",
       "IDADE               0\n",
       "DATA_SOLICITACAO    0\n",
       "VL_PATRIMONIO       0\n",
       "dtype: int64"
      ]
     },
     "execution_count": 18,
     "metadata": {},
     "output_type": "execute_result"
    }
   ],
   "source": [
    "df_dados.isnull().sum()"
   ]
  },
  {
   "cell_type": "code",
   "execution_count": null,
   "id": "d6b2b2a2",
   "metadata": {},
   "outputs": [],
   "source": []
  },
  {
   "cell_type": "code",
   "execution_count": null,
   "id": "c8e99f57",
   "metadata": {},
   "outputs": [],
   "source": []
  },
  {
   "cell_type": "markdown",
   "id": "52bc8854",
   "metadata": {},
   "source": [
    "### 3º Tratar os valores outliers(discrepantes)"
   ]
  },
  {
   "cell_type": "code",
   "execution_count": 19,
   "id": "62e5c225",
   "metadata": {},
   "outputs": [
    {
     "data": {
      "text/html": [
       "<div>\n",
       "<style scoped>\n",
       "    .dataframe tbody tr th:only-of-type {\n",
       "        vertical-align: middle;\n",
       "    }\n",
       "\n",
       "    .dataframe tbody tr th {\n",
       "        vertical-align: top;\n",
       "    }\n",
       "\n",
       "    .dataframe thead th {\n",
       "        text-align: right;\n",
       "    }\n",
       "</style>\n",
       "<table border=\"1\" class=\"dataframe\">\n",
       "  <thead>\n",
       "    <tr style=\"text-align: right;\">\n",
       "      <th></th>\n",
       "      <th>ESTADO_CIVIL</th>\n",
       "      <th>SEXO</th>\n",
       "      <th>RENDA_MENSAL</th>\n",
       "      <th>IDADE</th>\n",
       "      <th>DATA_SOLICITACAO</th>\n",
       "      <th>VL_PATRIMONIO</th>\n",
       "    </tr>\n",
       "  </thead>\n",
       "  <tbody>\n",
       "    <tr>\n",
       "      <th>1050</th>\n",
       "      <td>SOLTEIRO</td>\n",
       "      <td>M</td>\n",
       "      <td>3000.0</td>\n",
       "      <td>135</td>\n",
       "      <td>2023-11-11</td>\n",
       "      <td>500000.0</td>\n",
       "    </tr>\n",
       "    <tr>\n",
       "      <th>1051</th>\n",
       "      <td>SOLTEIRO</td>\n",
       "      <td>M</td>\n",
       "      <td>3000.0</td>\n",
       "      <td>128</td>\n",
       "      <td>2023-11-11</td>\n",
       "      <td>500000.0</td>\n",
       "    </tr>\n",
       "    <tr>\n",
       "      <th>1052</th>\n",
       "      <td>SOLTEIRO</td>\n",
       "      <td>M</td>\n",
       "      <td>3000.0</td>\n",
       "      <td>123</td>\n",
       "      <td>2023-11-11</td>\n",
       "      <td>500000.0</td>\n",
       "    </tr>\n",
       "    <tr>\n",
       "      <th>1053</th>\n",
       "      <td>SOLTEIRO</td>\n",
       "      <td>M</td>\n",
       "      <td>3000.0</td>\n",
       "      <td>127</td>\n",
       "      <td>2023-11-11</td>\n",
       "      <td>500000.0</td>\n",
       "    </tr>\n",
       "    <tr>\n",
       "      <th>1054</th>\n",
       "      <td>SOLTEIRO</td>\n",
       "      <td>M</td>\n",
       "      <td>3000.0</td>\n",
       "      <td>133</td>\n",
       "      <td>2023-11-11</td>\n",
       "      <td>500000.0</td>\n",
       "    </tr>\n",
       "    <tr>\n",
       "      <th>1055</th>\n",
       "      <td>SOLTEIRO</td>\n",
       "      <td>M</td>\n",
       "      <td>3000.0</td>\n",
       "      <td>134</td>\n",
       "      <td>2023-11-11</td>\n",
       "      <td>500000.0</td>\n",
       "    </tr>\n",
       "  </tbody>\n",
       "</table>\n",
       "</div>"
      ],
      "text/plain": [
       "     ESTADO_CIVIL SEXO  RENDA_MENSAL  IDADE DATA_SOLICITACAO  VL_PATRIMONIO\n",
       "1050     SOLTEIRO    M        3000.0    135       2023-11-11       500000.0\n",
       "1051     SOLTEIRO    M        3000.0    128       2023-11-11       500000.0\n",
       "1052     SOLTEIRO    M        3000.0    123       2023-11-11       500000.0\n",
       "1053     SOLTEIRO    M        3000.0    127       2023-11-11       500000.0\n",
       "1054     SOLTEIRO    M        3000.0    133       2023-11-11       500000.0\n",
       "1055     SOLTEIRO    M        3000.0    134       2023-11-11       500000.0"
      ]
     },
     "execution_count": 19,
     "metadata": {},
     "output_type": "execute_result"
    }
   ],
   "source": [
    "df_dados[df_dados['IDADE'] > 70]"
   ]
  },
  {
   "cell_type": "code",
   "execution_count": 20,
   "id": "783787c6",
   "metadata": {},
   "outputs": [
    {
     "data": {
      "text/plain": [
       "33.0"
      ]
     },
     "execution_count": 20,
     "metadata": {},
     "output_type": "execute_result"
    }
   ],
   "source": [
    "df_dados['IDADE'].median()"
   ]
  },
  {
   "cell_type": "code",
   "execution_count": 21,
   "id": "a921cfab",
   "metadata": {},
   "outputs": [],
   "source": [
    "df_dados.loc[df_dados['IDADE'] > 70, 'IDADE'] = df_dados['IDADE'].median()"
   ]
  },
  {
   "cell_type": "code",
   "execution_count": 22,
   "id": "9b862624",
   "metadata": {},
   "outputs": [
    {
     "data": {
      "text/html": [
       "<div>\n",
       "<style scoped>\n",
       "    .dataframe tbody tr th:only-of-type {\n",
       "        vertical-align: middle;\n",
       "    }\n",
       "\n",
       "    .dataframe tbody tr th {\n",
       "        vertical-align: top;\n",
       "    }\n",
       "\n",
       "    .dataframe thead th {\n",
       "        text-align: right;\n",
       "    }\n",
       "</style>\n",
       "<table border=\"1\" class=\"dataframe\">\n",
       "  <thead>\n",
       "    <tr style=\"text-align: right;\">\n",
       "      <th></th>\n",
       "      <th>ESTADO_CIVIL</th>\n",
       "      <th>SEXO</th>\n",
       "      <th>RENDA_MENSAL</th>\n",
       "      <th>IDADE</th>\n",
       "      <th>DATA_SOLICITACAO</th>\n",
       "      <th>VL_PATRIMONIO</th>\n",
       "    </tr>\n",
       "  </thead>\n",
       "  <tbody>\n",
       "  </tbody>\n",
       "</table>\n",
       "</div>"
      ],
      "text/plain": [
       "Empty DataFrame\n",
       "Columns: [ESTADO_CIVIL, SEXO, RENDA_MENSAL, IDADE, DATA_SOLICITACAO, VL_PATRIMONIO]\n",
       "Index: []"
      ]
     },
     "execution_count": 22,
     "metadata": {},
     "output_type": "execute_result"
    }
   ],
   "source": [
    "df_dados[df_dados['IDADE'] > 70]"
   ]
  },
  {
   "cell_type": "code",
   "execution_count": null,
   "id": "18f69b05",
   "metadata": {},
   "outputs": [],
   "source": []
  },
  {
   "cell_type": "markdown",
   "id": "8043479c",
   "metadata": {},
   "source": [
    "### 4º Tratar os valores das variáveis categóricas"
   ]
  },
  {
   "cell_type": "code",
   "execution_count": 23,
   "id": "419c3e34",
   "metadata": {},
   "outputs": [
    {
     "data": {
      "text/plain": [
       "ESTADO_CIVIL\n",
       "*                 50\n",
       "-                 50\n",
       "AMIGADO           50\n",
       "CASADO           450\n",
       "DESQUITADO        50\n",
       "DIVORCIADO        50\n",
       "JUNTADO           50\n",
       "NAO INFORMADO     50\n",
       "SOLTEIRO         156\n",
       "VIUVO             50\n",
       "XXX               50\n",
       "dtype: int64"
      ]
     },
     "execution_count": 23,
     "metadata": {},
     "output_type": "execute_result"
    }
   ],
   "source": [
    "df_dados.groupby(['ESTADO_CIVIL']).size()"
   ]
  },
  {
   "cell_type": "code",
   "execution_count": 24,
   "id": "815bb61c",
   "metadata": {},
   "outputs": [],
   "source": [
    "df_dados['ESTADO_CIVIL'] = df_dados['ESTADO_CIVIL'].replace(['-'], 'OUTROS')\n",
    "df_dados['ESTADO_CIVIL'] = df_dados['ESTADO_CIVIL'].replace(['*'], 'OUTROS')\n",
    "df_dados['ESTADO_CIVIL'] = df_dados['ESTADO_CIVIL'].replace(['XXX'], 'OUTROS')\n",
    "df_dados['ESTADO_CIVIL'] = df_dados['ESTADO_CIVIL'].replace(['NAO INFORMADO'], 'OUTROS')\n",
    "df_dados['ESTADO_CIVIL'] = df_dados['ESTADO_CIVIL'].replace(['AMIGADO'], 'CASADO')\n",
    "df_dados['ESTADO_CIVIL'] = df_dados['ESTADO_CIVIL'].replace(['JUNTADO'], 'CASADO')\n",
    "df_dados['ESTADO_CIVIL'] = df_dados['ESTADO_CIVIL'].replace(['DESQUITADO'], 'DIVORCIADO')"
   ]
  },
  {
   "cell_type": "code",
   "execution_count": 25,
   "id": "2649af07",
   "metadata": {},
   "outputs": [
    {
     "data": {
      "text/plain": [
       "ESTADO_CIVIL\n",
       "CASADO        550\n",
       "DIVORCIADO    100\n",
       "OUTROS        200\n",
       "SOLTEIRO      156\n",
       "VIUVO          50\n",
       "dtype: int64"
      ]
     },
     "execution_count": 25,
     "metadata": {},
     "output_type": "execute_result"
    }
   ],
   "source": [
    "df_dados.groupby(['ESTADO_CIVIL']).size()"
   ]
  },
  {
   "cell_type": "code",
   "execution_count": null,
   "id": "9d20b537",
   "metadata": {},
   "outputs": [],
   "source": []
  },
  {
   "cell_type": "markdown",
   "id": "f6e77663",
   "metadata": {},
   "source": [
    "### 5º Engenharia de Atributos"
   ]
  },
  {
   "cell_type": "code",
   "execution_count": 26,
   "id": "84b55e27",
   "metadata": {},
   "outputs": [],
   "source": [
    "import locale\n",
    "locale.setlocale(locale.LC_ALL, 'pt_BR.utf8')\n",
    "\n",
    "df_dados['DATA_SOLICITACAO'] = pd.to_datetime(df_dados['DATA_SOLICITACAO'])\n",
    "df_dados['ANO'] = pd.DatetimeIndex(df_dados['DATA_SOLICITACAO']).year\n",
    "df_dados['MES'] = pd.DatetimeIndex(df_dados['DATA_SOLICITACAO']).month\n",
    "df_dados['DIA'] = pd.DatetimeIndex(df_dados['DATA_SOLICITACAO']).day\n",
    "df_dados['DIA_SEMANA'] = pd.DatetimeIndex(df_dados['DATA_SOLICITACAO']).day_name(locale = 'pt_BR.utf8')"
   ]
  },
  {
   "cell_type": "code",
   "execution_count": 27,
   "id": "1db59563",
   "metadata": {},
   "outputs": [
    {
     "data": {
      "text/html": [
       "<div>\n",
       "<style scoped>\n",
       "    .dataframe tbody tr th:only-of-type {\n",
       "        vertical-align: middle;\n",
       "    }\n",
       "\n",
       "    .dataframe tbody tr th {\n",
       "        vertical-align: top;\n",
       "    }\n",
       "\n",
       "    .dataframe thead th {\n",
       "        text-align: right;\n",
       "    }\n",
       "</style>\n",
       "<table border=\"1\" class=\"dataframe\">\n",
       "  <thead>\n",
       "    <tr style=\"text-align: right;\">\n",
       "      <th></th>\n",
       "      <th>ESTADO_CIVIL</th>\n",
       "      <th>SEXO</th>\n",
       "      <th>RENDA_MENSAL</th>\n",
       "      <th>IDADE</th>\n",
       "      <th>DATA_SOLICITACAO</th>\n",
       "      <th>VL_PATRIMONIO</th>\n",
       "      <th>ANO</th>\n",
       "      <th>MES</th>\n",
       "      <th>DIA</th>\n",
       "      <th>DIA_SEMANA</th>\n",
       "    </tr>\n",
       "  </thead>\n",
       "  <tbody>\n",
       "    <tr>\n",
       "      <th>0</th>\n",
       "      <td>CASADO</td>\n",
       "      <td>M</td>\n",
       "      <td>2000.0</td>\n",
       "      <td>37</td>\n",
       "      <td>2023-11-06</td>\n",
       "      <td>300000.0</td>\n",
       "      <td>2023</td>\n",
       "      <td>11</td>\n",
       "      <td>6</td>\n",
       "      <td>Segunda-feira</td>\n",
       "    </tr>\n",
       "    <tr>\n",
       "      <th>1</th>\n",
       "      <td>SOLTEIRO</td>\n",
       "      <td>F</td>\n",
       "      <td>2000.0</td>\n",
       "      <td>38</td>\n",
       "      <td>2023-11-06</td>\n",
       "      <td>300000.0</td>\n",
       "      <td>2023</td>\n",
       "      <td>11</td>\n",
       "      <td>6</td>\n",
       "      <td>Segunda-feira</td>\n",
       "    </tr>\n",
       "    <tr>\n",
       "      <th>2</th>\n",
       "      <td>VIUVO</td>\n",
       "      <td>M</td>\n",
       "      <td>3000.0</td>\n",
       "      <td>39</td>\n",
       "      <td>2023-11-06</td>\n",
       "      <td>400000.0</td>\n",
       "      <td>2023</td>\n",
       "      <td>11</td>\n",
       "      <td>6</td>\n",
       "      <td>Segunda-feira</td>\n",
       "    </tr>\n",
       "    <tr>\n",
       "      <th>3</th>\n",
       "      <td>DIVORCIADO</td>\n",
       "      <td>F</td>\n",
       "      <td>3000.0</td>\n",
       "      <td>40</td>\n",
       "      <td>2023-11-06</td>\n",
       "      <td>400000.0</td>\n",
       "      <td>2023</td>\n",
       "      <td>11</td>\n",
       "      <td>6</td>\n",
       "      <td>Segunda-feira</td>\n",
       "    </tr>\n",
       "    <tr>\n",
       "      <th>4</th>\n",
       "      <td>CASADO</td>\n",
       "      <td>M</td>\n",
       "      <td>4000.0</td>\n",
       "      <td>41</td>\n",
       "      <td>2023-11-07</td>\n",
       "      <td>500000.0</td>\n",
       "      <td>2023</td>\n",
       "      <td>11</td>\n",
       "      <td>7</td>\n",
       "      <td>Terça-feira</td>\n",
       "    </tr>\n",
       "  </tbody>\n",
       "</table>\n",
       "</div>"
      ],
      "text/plain": [
       "  ESTADO_CIVIL SEXO  RENDA_MENSAL  IDADE DATA_SOLICITACAO  VL_PATRIMONIO  \\\n",
       "0       CASADO    M        2000.0     37       2023-11-06       300000.0   \n",
       "1     SOLTEIRO    F        2000.0     38       2023-11-06       300000.0   \n",
       "2        VIUVO    M        3000.0     39       2023-11-06       400000.0   \n",
       "3   DIVORCIADO    F        3000.0     40       2023-11-06       400000.0   \n",
       "4       CASADO    M        4000.0     41       2023-11-07       500000.0   \n",
       "\n",
       "    ANO  MES  DIA     DIA_SEMANA  \n",
       "0  2023   11    6  Segunda-feira  \n",
       "1  2023   11    6  Segunda-feira  \n",
       "2  2023   11    6  Segunda-feira  \n",
       "3  2023   11    6  Segunda-feira  \n",
       "4  2023   11    7    Terça-feira  "
      ]
     },
     "execution_count": 27,
     "metadata": {},
     "output_type": "execute_result"
    }
   ],
   "source": [
    "df_dados.head()"
   ]
  },
  {
   "cell_type": "code",
   "execution_count": 28,
   "id": "a499a8db",
   "metadata": {},
   "outputs": [
    {
     "data": {
      "text/plain": [
       "DIA_SEMANA\n",
       "Quarta-feira     150\n",
       "Quinta-feira     200\n",
       "Segunda-feira    200\n",
       "Sexta-feira      250\n",
       "Sábado           106\n",
       "Terça-feira      150\n",
       "dtype: int64"
      ]
     },
     "execution_count": 28,
     "metadata": {},
     "output_type": "execute_result"
    }
   ],
   "source": [
    "df_dados.groupby(['DIA_SEMANA']).size()"
   ]
  },
  {
   "cell_type": "code",
   "execution_count": null,
   "id": "f13621e8",
   "metadata": {},
   "outputs": [],
   "source": []
  },
  {
   "cell_type": "code",
   "execution_count": null,
   "id": "eabeab62",
   "metadata": {},
   "outputs": [],
   "source": []
  },
  {
   "cell_type": "code",
   "execution_count": null,
   "id": "aefae6b7",
   "metadata": {},
   "outputs": [],
   "source": []
  },
  {
   "cell_type": "code",
   "execution_count": null,
   "id": "dbc892f3",
   "metadata": {},
   "outputs": [],
   "source": []
  },
  {
   "cell_type": "code",
   "execution_count": null,
   "id": "6e9f7f77",
   "metadata": {},
   "outputs": [],
   "source": []
  },
  {
   "cell_type": "markdown",
   "id": "130af9bf",
   "metadata": {},
   "source": [
    "### 6º Normalização ou Padronização\n",
    "### 7º Balanceamento da variável alvo e LabelEncoder"
   ]
  },
  {
   "cell_type": "code",
   "execution_count": null,
   "id": "1a17d520",
   "metadata": {},
   "outputs": [],
   "source": []
  }
 ],
 "metadata": {
  "kernelspec": {
   "display_name": "Python 3 (ipykernel)",
   "language": "python",
   "name": "python3"
  },
  "language_info": {
   "codemirror_mode": {
    "name": "ipython",
    "version": 3
   },
   "file_extension": ".py",
   "mimetype": "text/x-python",
   "name": "python",
   "nbconvert_exporter": "python",
   "pygments_lexer": "ipython3",
   "version": "3.10.9"
  }
 },
 "nbformat": 4,
 "nbformat_minor": 5
}
